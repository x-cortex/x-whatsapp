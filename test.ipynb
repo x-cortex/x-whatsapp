{
 "cells": [
  {
   "cell_type": "code",
   "execution_count": null,
   "metadata": {},
   "outputs": [],
   "source": [
    "from src import WhatsappClient"
   ]
  },
  {
   "cell_type": "code",
   "execution_count": null,
   "metadata": {},
   "outputs": [],
   "source": [
    "client = WhatsappClient(DEBUG=True)\n",
    "await client.initialize_playwright()"
   ]
  },
  {
   "cell_type": "code",
   "execution_count": null,
   "metadata": {},
   "outputs": [],
   "source": [
    "await client.login()"
   ]
  },
  {
   "cell_type": "code",
   "execution_count": null,
   "metadata": {},
   "outputs": [],
   "source": [
    "await client.find_user(\"Prathwik\")\n",
    "# await client.extract_chat_details_from_side_pane()\n",
    "# await client.search_pane_scroll_down()"
   ]
  },
  {
   "cell_type": "code",
   "execution_count": null,
   "metadata": {},
   "outputs": [],
   "source": [
    "await client.fetch_latest_message()"
   ]
  },
  {
   "cell_type": "code",
   "execution_count": null,
   "metadata": {},
   "outputs": [],
   "source": [
    "await client.on_new_message(lambda x: print(x))"
   ]
  },
  {
   "cell_type": "code",
   "execution_count": null,
   "metadata": {},
   "outputs": [],
   "source": [
    "# await client.search_pane_scroll_down()\n",
    "await client.chat_pane_scroll_up()"
   ]
  },
  {
   "cell_type": "code",
   "execution_count": null,
   "metadata": {},
   "outputs": [],
   "source": [
    "await client.open_chat_panel(\"Prathwik\")"
   ]
  },
  {
   "cell_type": "code",
   "execution_count": null,
   "metadata": {},
   "outputs": [],
   "source": [
    "from tabulate import tabulate\n",
    "\n",
    "messages = await client.extract_messages()\n",
    "\n",
    "table_data = [\n",
    "    [msg[\"sender\"], msg[\"time\"], msg[\"message\"], str(msg[\"attachment\"])]\n",
    "    for msg in messages\n",
    "]\n",
    "headers = [\"Sender\", \"Time Sent\", \"Message\", \"Attachment Details\"]\n",
    "\n",
    "print(\"Number of previous messages: \", len(messages))\n",
    "print(tabulate(table_data, headers=headers, tablefmt=\"grid\"))"
   ]
  },
  {
   "cell_type": "code",
   "execution_count": null,
   "metadata": {},
   "outputs": [],
   "source": [
    "## LEAVE THIS AS IT IS GOOD FOR REFACTORING STUFF\n",
    "import asyncio\n",
    "from playwright.async_api import async_playwright\n",
    "import os\n",
    "\n",
    "BASE_URL = \"https://web.whatsapp.com\"\n",
    "\n",
    "\n",
    "async def initialize_playwright(browser_instance, user_data_dir, headless):\n",
    "    # TODO: Perform browser level optimizations and other stuff\n",
    "    playwright = await async_playwright().start()\n",
    "\n",
    "    browser = await playwright[browser_instance].launch_persistent_context(\n",
    "        user_data_dir, headless=headless\n",
    "    )\n",
    "\n",
    "    page_instance = await browser.new_page()\n",
    "\n",
    "    # await page_instance.set_viewport_size({\"width\": 1920, \"height\": 1080})\n",
    "    return playwright, browser, page_instance\n",
    "\n",
    "\n",
    "async def login(page, user_data_dir):\n",
    "    # TODO: QR code & phone number login via script\n",
    "\n",
    "    await page.goto(BASE_URL)\n",
    "    await page.bring_to_front()\n",
    "\n",
    "    print(\"Waiting for WhatsApp chats to load...\")\n",
    "    await page.wait_for_selector(\n",
    "        '//*[@id=\"pane-side\"]/div[2]/div/div/child::div', timeout=600000\n",
    "    )\n",
    "    print(\"WhatsApp chats loaded.\")"
   ]
  },
  {
   "cell_type": "code",
   "execution_count": null,
   "metadata": {},
   "outputs": [],
   "source": [
    "playwright, browser, page = await initialize_playwright(\"chromium\", \"user_data\", False)\n",
    "await login(page, \"user_data\")"
   ]
  },
  {
   "cell_type": "code",
   "execution_count": null,
   "metadata": {},
   "outputs": [],
   "source": [
    "async def clear_text():\n",
    "    await page.keyboard.press(\"Control+A\")\n",
    "    await page.keyboard.press(\"Backspace\")\n",
    "\n",
    "\n",
    "def get_search_box_locator():\n",
    "    \"\"\"Returns the locator for the search box on the side pane.\"\"\"\n",
    "    return page.locator(\n",
    "        \"#side div[contenteditable='true'][role='textbox'][data-lexical-editor='true']\"\n",
    "    )\n",
    "\n",
    "\n",
    "async def find_user(username: str) -> str | bool:\n",
    "    \"\"\"\n",
    "    Returns str | bool: chat_name if the chat is found, False otherwise.\n",
    "\n",
    "    TODO:\n",
    "        - find the user without opening the chat panel\n",
    "        - right now this function is same as open_chat_panel\n",
    "    \"\"\"\n",
    "    try:\n",
    "        search_box = get_search_box_locator()\n",
    "\n",
    "        await search_box.click()\n",
    "        await clear_text()\n",
    "        await search_box.type(username)\n",
    "\n",
    "        await asyncio.sleep(0.5)\n",
    "\n",
    "        chat_list_div = await page.query_selector('div[aria-label=\"Search results.\"]')\n",
    "        children = await chat_list_div.query_selector_all('div[role=\"listitem\"]')\n",
    "        chat_name = None\n",
    "\n",
    "        for chat in children:\n",
    "            name_element = await chat.query_selector('span[dir=\"auto\"]')\n",
    "            name = await name_element.inner_text() if name_element else \"Unknown\"\n",
    "            # print(name)\n",
    "\n",
    "            translate_y = await chat.evaluate(\n",
    "                \"element => window.getComputedStyle(element).transform\"\n",
    "            )\n",
    "\n",
    "            if translate_y:\n",
    "                if not \"matrix\" in translate_y:\n",
    "                    continue\n",
    "                parts = translate_y.replace(\"matrix(\", \"\").replace(\")\", \"\").split(\", \")\n",
    "\n",
    "                if len(parts) == 6:\n",
    "                    translate_y = float(parts[5])\n",
    "                    if translate_y != float(72):\n",
    "                        continue\n",
    "                    chat_name = name\n",
    "\n",
    "        if chat_name and chat_name.upper().startswith(username.upper()):\n",
    "            print(f'Username with prefix \"{username}\" found as \"{chat_name}\"')\n",
    "            return chat_name\n",
    "        else:\n",
    "            print(f'Username with prefix \"{username}\" not found')\n",
    "            return False\n",
    "    except TimeoutError:\n",
    "        print(f'It was not possible to fetch chat \"{username}\"')\n",
    "        return False"
   ]
  },
  {
   "cell_type": "code",
   "execution_count": null,
   "metadata": {},
   "outputs": [],
   "source": [
    "await find_user(\"Prathwik\")\n",
    "## ADD TESTING STUFF HERE"
   ]
  },
  {
   "cell_type": "code",
   "execution_count": null,
   "metadata": {},
   "outputs": [],
   "source": [
    "async def extract_chat_details_from_side_pane(self):\n",
    "    \"\"\"\n",
    "    Get the list of messages in the side pane (name, recent message, time, unread messages).\n",
    "    \"\"\"\n",
    "    chat_list_div = await self.page.query_selector('div[aria-label=\"Chat list\"]')\n",
    "    children = await chat_list_div.query_selector_all('div[role=\"listitem\"]')\n",
    "\n",
    "    try:\n",
    "        logger.info(\"Chat list div found.\")\n",
    "        all_chats = []\n",
    "        for chat in children:\n",
    "            name_element = await chat.query_selector('span[dir=\"auto\"]')\n",
    "            name = await name_element.inner_text() if name_element else \"Unknown\"\n",
    "\n",
    "            # Sole purpose of sorting the chats based on latest message\n",
    "            translate_y = await chat.evaluate(\n",
    "                \"element => window.getComputedStyle(element).transform\"\n",
    "            )\n",
    "\n",
    "            if translate_y:\n",
    "                if \"matrix\" in translate_y:\n",
    "                    parts = (\n",
    "                        translate_y.replace(\"matrix(\", \"\").replace(\")\", \"\").split(\", \")\n",
    "                    )\n",
    "                    if len(parts) == 6:\n",
    "                        translate_y = float(parts[5])\n",
    "\n",
    "                elif \"translateY(0px)\" in translate_y:\n",
    "                    logger.info(\"Div with translateY(0px) found.\")\n",
    "                    translate_y = 0\n",
    "\n",
    "            recent_message_element = await chat.query_selector(\n",
    "                'div[class=\"_ak8k\"]>span>span'\n",
    "            )\n",
    "            recent_message = (\n",
    "                await recent_message_element.inner_text()\n",
    "                if recent_message_element\n",
    "                else \"No recent message\"\n",
    "            )\n",
    "\n",
    "            time_element = await chat.query_selector('span[dir=\"auto\"]')\n",
    "            time = (\n",
    "                await time_element.inner_text() if time_element else \"No time available\"\n",
    "            )\n",
    "\n",
    "            unread_messages_element = await chat.query_selector(\n",
    "                'span[aria-label*=\"unread\"]'\n",
    "            )\n",
    "            unread_messages = (\n",
    "                await unread_messages_element.inner_text()\n",
    "                if unread_messages_element\n",
    "                else \"0\"\n",
    "            )\n",
    "\n",
    "            all_chats.append(\n",
    "                {\n",
    "                    \"name\": name,\n",
    "                    \"recent_message\": recent_message,\n",
    "                    \"time\": time,\n",
    "                    \"unread_messages\": unread_messages,\n",
    "                    \"translate_y\": translate_y,\n",
    "                }\n",
    "            )\n",
    "\n",
    "            # This sort function is trash, Ill leave to the future me to fix it\n",
    "            all_chats.sort(key=lambda chat: chat[\"translate_y\"])\n",
    "\n",
    "            # logger.info(\n",
    "            #     f\"Chat: {name}, Recent message: {recent_message}, Time: {time}, Unread messages: {unread_messages}\"\n",
    "            # )\n",
    "\n",
    "    except Exception as e:\n",
    "        logger.exception(f\"Error extracting chat details from side pane: {e}\")\n",
    "\n",
    "    # TODO: Additional overhead to remove the translate_y key, Ill leave it as it is for now\n",
    "    # for chat in all_chats:\n",
    "    #     chat.pop(\"translate_y\", None)\n",
    "\n",
    "    return all_chats"
   ]
  },
  {
   "cell_type": "code",
   "execution_count": null,
   "metadata": {},
   "outputs": [],
   "source": [
    "## ADD TESTING STUFF HERE\n",
    "async def trigger_on_notification():\n",
    "    await page.evaluate(\n",
    "        \"\"\"\n",
    "        const originalNotification = window.Notification;\n",
    "        window.Notification = function(title, options) {\n",
    "            console.log(\"New message received:\", title, options);\n",
    "            return new originalNotification(title, options);\n",
    "        };\n",
    "        \"\"\"\n",
    "    )\n",
    "\n",
    "    def handle_console(msg):\n",
    "        if \"New message received:\" in msg.text:\n",
    "            print(f\"Notification received: {msg.text}\")\n",
    "            # Add your notification handling logic here\n",
    "\n",
    "    page.on(\"console\", handle_console)\n",
    "\n",
    "    print(\"Listening for notifications...\")\n",
    "\n",
    "    # Keep the function running\n",
    "    while True:\n",
    "        await asyncio.sleep(1)"
   ]
  },
  {
   "cell_type": "code",
   "execution_count": null,
   "metadata": {},
   "outputs": [],
   "source": [
    "await trigger_on_notification()"
   ]
  },
  {
   "cell_type": "code",
   "execution_count": null,
   "metadata": {},
   "outputs": [],
   "source": []
  }
 ],
 "metadata": {
  "kernelspec": {
   "display_name": "project",
   "language": "python",
   "name": "python3"
  },
  "language_info": {
   "codemirror_mode": {
    "name": "ipython",
    "version": 3
   },
   "file_extension": ".py",
   "mimetype": "text/x-python",
   "name": "python",
   "nbconvert_exporter": "python",
   "pygments_lexer": "ipython3",
   "version": "3.12.5"
  }
 },
 "nbformat": 4,
 "nbformat_minor": 2
}
