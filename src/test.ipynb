{
 "cells": [
  {
   "cell_type": "code",
   "execution_count": null,
   "metadata": {},
   "outputs": [],
   "source": [
    "from newFile import WhatsappClient"
   ]
  },
  {
   "cell_type": "code",
   "execution_count": null,
   "metadata": {},
   "outputs": [],
   "source": [
    "client = WhatsappClient()\n",
    "await client.initialize_playwright()"
   ]
  },
  {
   "cell_type": "code",
   "execution_count": null,
   "metadata": {},
   "outputs": [],
   "source": [
    "await client.login()"
   ]
  },
  {
   "cell_type": "code",
   "execution_count": null,
   "metadata": {},
   "outputs": [],
   "source": [
    "await client.openChatPanelUsingName(\"Kausthubh\")"
   ]
  },
  {
   "cell_type": "code",
   "execution_count": null,
   "metadata": {},
   "outputs": [],
   "source": [
    "messages = await client.getChatHistory(10)\n",
    "\n",
    "from tabulate import tabulate\n",
    "\n",
    "# Prepare the data for tabulation\n",
    "table_data = [[msg[\"name\"], msg[\"time\"], msg[\"message\"]] for msg in messages]\n",
    "\n",
    "# Define headers\n",
    "headers = [\"Sender\", \"Time Sent\", \"Message\"]\n",
    "\n",
    "# Print the formatted table\n",
    "print(tabulate(table_data, headers=headers, tablefmt=\"grid\"))"
   ]
  },
  {
   "cell_type": "code",
   "execution_count": null,
   "metadata": {},
   "outputs": [],
   "source": [
    "messages = await client.parse_whatsapp_messages()\n",
    "\n",
    "from tabulate import tabulate\n",
    "\n",
    "# Prepare the data for tabulation\n",
    "table_data = [[msg[\"sender\"], msg[\"time_sent\"], msg[\"message\"]] for msg in messages]\n",
    "\n",
    "# Define headers\n",
    "headers = [\"Sender\", \"Time Sent\", \"Message\"]\n",
    "\n",
    "# Print the formatted table\n",
    "print(tabulate(table_data, headers=headers, tablefmt=\"grid\"))"
   ]
  },
  {
   "cell_type": "code",
   "execution_count": null,
   "metadata": {},
   "outputs": [],
   "source": []
  }
 ],
 "metadata": {
  "kernelspec": {
   "display_name": "project",
   "language": "python",
   "name": "python3"
  },
  "language_info": {
   "codemirror_mode": {
    "name": "ipython",
    "version": 3
   },
   "file_extension": ".py",
   "mimetype": "text/x-python",
   "name": "python",
   "nbconvert_exporter": "python",
   "pygments_lexer": "ipython3",
   "version": "3.11.9"
  }
 },
 "nbformat": 4,
 "nbformat_minor": 2
}
